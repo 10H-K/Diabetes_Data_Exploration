{
 "cells": [
  {
   "cell_type": "code",
   "execution_count": 53,
   "metadata": {},
   "outputs": [],
   "source": [
    "import pandas as pd\n",
    "import numpy as np\n",
    "from pathlib import Path\n",
    "from scipy.stats import ttest_ind\n",
    "from scipy.stats import chi2_contingency"
   ]
  },
  {
   "cell_type": "code",
   "execution_count": 10,
   "metadata": {},
   "outputs": [
    {
     "data": {
      "text/html": [
       "<div>\n",
       "<style scoped>\n",
       "    .dataframe tbody tr th:only-of-type {\n",
       "        vertical-align: middle;\n",
       "    }\n",
       "\n",
       "    .dataframe tbody tr th {\n",
       "        vertical-align: top;\n",
       "    }\n",
       "\n",
       "    .dataframe thead th {\n",
       "        text-align: right;\n",
       "    }\n",
       "</style>\n",
       "<table border=\"1\" class=\"dataframe\">\n",
       "  <thead>\n",
       "    <tr style=\"text-align: right;\">\n",
       "      <th></th>\n",
       "      <th>gender</th>\n",
       "      <th>age</th>\n",
       "      <th>hypertension</th>\n",
       "      <th>heart_disease</th>\n",
       "      <th>smoking_history</th>\n",
       "      <th>bmi</th>\n",
       "      <th>HbA1c_level</th>\n",
       "      <th>blood_glucose_level</th>\n",
       "      <th>diabetes</th>\n",
       "    </tr>\n",
       "  </thead>\n",
       "  <tbody>\n",
       "    <tr>\n",
       "      <th>0</th>\n",
       "      <td>Female</td>\n",
       "      <td>80.0</td>\n",
       "      <td>0</td>\n",
       "      <td>1</td>\n",
       "      <td>never</td>\n",
       "      <td>25.19</td>\n",
       "      <td>6.6</td>\n",
       "      <td>140</td>\n",
       "      <td>0</td>\n",
       "    </tr>\n",
       "    <tr>\n",
       "      <th>1</th>\n",
       "      <td>Female</td>\n",
       "      <td>54.0</td>\n",
       "      <td>0</td>\n",
       "      <td>0</td>\n",
       "      <td>No Info</td>\n",
       "      <td>27.32</td>\n",
       "      <td>6.6</td>\n",
       "      <td>80</td>\n",
       "      <td>0</td>\n",
       "    </tr>\n",
       "    <tr>\n",
       "      <th>2</th>\n",
       "      <td>Male</td>\n",
       "      <td>28.0</td>\n",
       "      <td>0</td>\n",
       "      <td>0</td>\n",
       "      <td>never</td>\n",
       "      <td>27.32</td>\n",
       "      <td>5.7</td>\n",
       "      <td>158</td>\n",
       "      <td>0</td>\n",
       "    </tr>\n",
       "    <tr>\n",
       "      <th>3</th>\n",
       "      <td>Female</td>\n",
       "      <td>36.0</td>\n",
       "      <td>0</td>\n",
       "      <td>0</td>\n",
       "      <td>current</td>\n",
       "      <td>23.45</td>\n",
       "      <td>5.0</td>\n",
       "      <td>155</td>\n",
       "      <td>0</td>\n",
       "    </tr>\n",
       "    <tr>\n",
       "      <th>4</th>\n",
       "      <td>Male</td>\n",
       "      <td>76.0</td>\n",
       "      <td>1</td>\n",
       "      <td>1</td>\n",
       "      <td>current</td>\n",
       "      <td>20.14</td>\n",
       "      <td>4.8</td>\n",
       "      <td>155</td>\n",
       "      <td>0</td>\n",
       "    </tr>\n",
       "  </tbody>\n",
       "</table>\n",
       "</div>"
      ],
      "text/plain": [
       "   gender   age  hypertension  heart_disease smoking_history    bmi  \\\n",
       "0  Female  80.0             0              1           never  25.19   \n",
       "1  Female  54.0             0              0         No Info  27.32   \n",
       "2    Male  28.0             0              0           never  27.32   \n",
       "3  Female  36.0             0              0         current  23.45   \n",
       "4    Male  76.0             1              1         current  20.14   \n",
       "\n",
       "   HbA1c_level  blood_glucose_level  diabetes  \n",
       "0          6.6                  140         0  \n",
       "1          6.6                   80         0  \n",
       "2          5.7                  158         0  \n",
       "3          5.0                  155         0  \n",
       "4          4.8                  155         0  "
      ]
     },
     "execution_count": 10,
     "metadata": {},
     "output_type": "execute_result"
    }
   ],
   "source": [
    "diabetes_dataset_to_load = Path(\"Diabetes/Resources/diabetes_prediction_dataset.csv\")\n",
    "diabetes_dataset = pd.read_csv(diabetes_dataset_to_load)\n",
    "diabetes_dataset.head()"
   ]
  },
  {
   "cell_type": "code",
   "execution_count": 11,
   "metadata": {},
   "outputs": [
    {
     "data": {
      "text/plain": [
       "gender                  object\n",
       "age                    float64\n",
       "hypertension             int64\n",
       "heart_disease            int64\n",
       "smoking_history         object\n",
       "bmi                    float64\n",
       "HbA1c_level            float64\n",
       "blood_glucose_level      int64\n",
       "diabetes                 int64\n",
       "dtype: object"
      ]
     },
     "execution_count": 11,
     "metadata": {},
     "output_type": "execute_result"
    }
   ],
   "source": [
    "diabetes_dataset.dtypes"
   ]
  },
  {
   "cell_type": "markdown",
   "metadata": {},
   "source": [
    "## FEMALE DIABETES & HEART DISEASE Vs. FEMALE NO DIABETES & NO HEART DISEASE (BMI)"
   ]
  },
  {
   "cell_type": "code",
   "execution_count": 31,
   "metadata": {},
   "outputs": [
    {
     "name": "stdout",
     "output_type": "stream",
     "text": [
      "      gender   age  hypertension  heart_disease smoking_history    bmi  \\\n",
      "618   Female  59.0             0              1           never  60.26   \n",
      "1022  Female  62.0             1              1          former  44.23   \n",
      "1135  Female  62.0             1              1           never  43.16   \n",
      "1274  Female  76.0             0              1          former  25.68   \n",
      "1277  Female  67.0             1              1         current  28.52   \n",
      "\n",
      "      HbA1c_level  blood_glucose_level  diabetes  \n",
      "618           8.8                  145         1  \n",
      "1022          8.2                  145         1  \n",
      "1135          8.8                  280         1  \n",
      "1274          9.0                  260         1  \n",
      "1277          6.5                  200         1  \n",
      "gender                 526\n",
      "age                    526\n",
      "hypertension           526\n",
      "heart_disease          526\n",
      "smoking_history        526\n",
      "bmi                    526\n",
      "HbA1c_level            526\n",
      "blood_glucose_level    526\n",
      "diabetes               526\n",
      "dtype: int64\n"
     ]
    }
   ],
   "source": [
    "female_diabetes_hd = diabetes_dataset[(diabetes_dataset[\"gender\"] == \"Female\") & (diabetes_dataset[\"heart_disease\"] == 1) & (diabetes_dataset[\"diabetes\"] == 1)]\n",
    "\n",
    "print(female_diabetes_hd.head())\n",
    "\n",
    "size = female_diabetes_hd.count()\n",
    "\n",
    "print(size)\n"
   ]
  },
  {
   "cell_type": "code",
   "execution_count": 32,
   "metadata": {},
   "outputs": [
    {
     "name": "stdout",
     "output_type": "stream",
     "text": [
      "   gender   age  hypertension  heart_disease smoking_history    bmi  \\\n",
      "1  Female  54.0             0              0         No Info  27.32   \n",
      "3  Female  36.0             0              0         current  23.45   \n",
      "5  Female  20.0             0              0           never  27.32   \n",
      "7  Female  79.0             0              0         No Info  23.86   \n",
      "9  Female  32.0             0              0           never  27.32   \n",
      "\n",
      "   HbA1c_level  blood_glucose_level  diabetes  \n",
      "1          6.6                   80         0  \n",
      "3          5.0                  155         0  \n",
      "5          6.6                   85         0  \n",
      "7          5.7                   85         0  \n",
      "9          5.0                  100         0  \n",
      "gender                 53055\n",
      "age                    53055\n",
      "hypertension           53055\n",
      "heart_disease          53055\n",
      "smoking_history        53055\n",
      "bmi                    53055\n",
      "HbA1c_level            53055\n",
      "blood_glucose_level    53055\n",
      "diabetes               53055\n",
      "dtype: int64\n"
     ]
    }
   ],
   "source": [
    "female_ndiabetes_nhd = diabetes_dataset[(diabetes_dataset[\"gender\"] == \"Female\") & (diabetes_dataset[\"heart_disease\"] == 0) & (diabetes_dataset[\"diabetes\"] == 0)]\n",
    "print(female_ndiabetes_nhd.head())\n",
    "\n",
    "size2 = female_ndiabetes_nhd.count()\n",
    "\n",
    "print(size2)"
   ]
  },
  {
   "cell_type": "code",
   "execution_count": 20,
   "metadata": {},
   "outputs": [
    {
     "data": {
      "text/plain": [
       "31.214733840304184"
      ]
     },
     "execution_count": 20,
     "metadata": {},
     "output_type": "execute_result"
    }
   ],
   "source": [
    "average_bmi_female_diabetes_hd = female_diabetes_hd[\"bmi\"].mean()\n",
    "average_bmi_female_diabetes_hd"
   ]
  },
  {
   "cell_type": "code",
   "execution_count": 43,
   "metadata": {},
   "outputs": [
    {
     "name": "stdout",
     "output_type": "stream",
     "text": [
      "54.77507473904487\n",
      "43.75931786316361\n"
     ]
    }
   ],
   "source": [
    "variance_1 = np.var(female_diabetes_hd[\"bmi\"])\n",
    "print(variance_1)\n",
    "\n",
    "variance_2 = np.var(female_ndiabetes_nhd[\"bmi\"])\n",
    "print(variance_2)"
   ]
  },
  {
   "cell_type": "code",
   "execution_count": 22,
   "metadata": {},
   "outputs": [
    {
     "data": {
      "text/plain": [
       "26.99850758646687"
      ]
     },
     "execution_count": 22,
     "metadata": {},
     "output_type": "execute_result"
    }
   ],
   "source": [
    "average_bmi_female_ndiabetes_nhd = female_ndiabetes_nhd[\"bmi\"].mean()\n",
    "average_bmi_female_ndiabetes_nhd"
   ]
  },
  {
   "cell_type": "code",
   "execution_count": 37,
   "metadata": {},
   "outputs": [
    {
     "data": {
      "text/plain": [
       "TtestResult(statistic=13.001760605741776, pvalue=9.09708986464371e-34, df=533.3332443395307)"
      ]
     },
     "execution_count": 37,
     "metadata": {},
     "output_type": "execute_result"
    }
   ],
   "source": [
    "t_statistic = ttest_ind(female_diabetes_hd[\"bmi\"], female_ndiabetes_nhd[\"bmi\"], equal_var=False)\n",
    "t_statistic"
   ]
  },
  {
   "cell_type": "markdown",
   "metadata": {},
   "source": [
    "## FEMALE DIABETES VS MALE DIABETES (Average Age)"
   ]
  },
  {
   "cell_type": "code",
   "execution_count": 49,
   "metadata": {},
   "outputs": [
    {
     "name": "stdout",
     "output_type": "stream",
     "text": [
      "    gender   age  hypertension  heart_disease smoking_history    bmi  \\\n",
      "6   Female  44.0             0              0           never  19.31   \n",
      "53  Female  53.0             0              0          former  27.32   \n",
      "59  Female  67.0             0              0           never  63.48   \n",
      "87  Female  36.0             0              0         current  32.27   \n",
      "94  Female  60.0             0              0           never  27.32   \n",
      "\n",
      "    HbA1c_level  blood_glucose_level  diabetes  \n",
      "6           6.5                  200         1  \n",
      "53          7.0                  159         1  \n",
      "59          8.8                  155         1  \n",
      "87          6.2                  220         1  \n",
      "94          7.5                  300         1  \n",
      "gender                 4461\n",
      "age                    4461\n",
      "hypertension           4461\n",
      "heart_disease          4461\n",
      "smoking_history        4461\n",
      "bmi                    4461\n",
      "HbA1c_level            4461\n",
      "blood_glucose_level    4461\n",
      "diabetes               4461\n",
      "dtype: int64\n",
      "60.99349921542255\n"
     ]
    }
   ],
   "source": [
    "female_diabetes = diabetes_dataset[(diabetes_dataset[\"gender\"] == \"Female\") & (diabetes_dataset[\"diabetes\"] == 1)]\n",
    "print(female_diabetes.head())\n",
    "\n",
    "female_diabetes_size = (female_diabetes.count())\n",
    "print(female_diabetes_size)\n",
    "\n",
    "female_age_average = female_diabetes[\"age\"].mean()\n",
    "print(female_age_average)"
   ]
  },
  {
   "cell_type": "code",
   "execution_count": 50,
   "metadata": {},
   "outputs": [
    {
     "name": "stdout",
     "output_type": "stream",
     "text": [
      "   gender   age  hypertension  heart_disease smoking_history    bmi  \\\n",
      "26   Male  67.0             0              1     not current  27.32   \n",
      "38   Male  50.0             1              0         current  27.32   \n",
      "40   Male  73.0             0              0          former  25.91   \n",
      "55   Male  50.0             0              0          former  37.16   \n",
      "81   Male  57.0             0              0         No Info  27.32   \n",
      "\n",
      "    HbA1c_level  blood_glucose_level  diabetes  \n",
      "26          6.5                  200         1  \n",
      "38          5.7                  260         1  \n",
      "40          9.0                  160         1  \n",
      "55          9.0                  159         1  \n",
      "81          8.2                  126         1  \n",
      "gender                 4039\n",
      "age                    4039\n",
      "hypertension           4039\n",
      "heart_disease          4039\n",
      "smoking_history        4039\n",
      "bmi                    4039\n",
      "HbA1c_level            4039\n",
      "blood_glucose_level    4039\n",
      "diabetes               4039\n",
      "dtype: int64\n",
      "60.89477593463729\n"
     ]
    }
   ],
   "source": [
    "male_diabetes = diabetes_dataset[(diabetes_dataset[\"gender\"] == \"Male\") & (diabetes_dataset[\"diabetes\"] == 1)]\n",
    "print(male_diabetes.head())\n",
    "\n",
    "male_diabetes_size = (male_diabetes.count())\n",
    "print(male_diabetes_size)\n",
    "\n",
    "male_age_average = male_diabetes[\"age\"].mean()\n",
    "print(male_age_average)"
   ]
  },
  {
   "cell_type": "code",
   "execution_count": 52,
   "metadata": {},
   "outputs": [
    {
     "name": "stdout",
     "output_type": "stream",
     "text": [
      "222.05129152146074\n",
      "200.2075463659864\n"
     ]
    }
   ],
   "source": [
    "fvariance_1 = np.var(female_diabetes[\"age\"])\n",
    "print(fvariance_1)\n",
    "\n",
    "mvariance_2 = np.var(male_diabetes[\"age\"])\n",
    "print(mvariance_2)"
   ]
  },
  {
   "cell_type": "code",
   "execution_count": 51,
   "metadata": {},
   "outputs": [
    {
     "data": {
      "text/plain": [
       "TtestResult(statistic=-0.3131814061917626, pvalue=0.7541505473311234, df=8478.756688315229)"
      ]
     },
     "execution_count": 51,
     "metadata": {},
     "output_type": "execute_result"
    }
   ],
   "source": [
    "t_statistic = ttest_ind(male_diabetes[\"age\"], female_diabetes[\"age\"], equal_var=False)\n",
    "t_statistic"
   ]
  },
  {
   "cell_type": "markdown",
   "metadata": {},
   "source": [
    "## Diabetes Predicting Heart Disease"
   ]
  },
  {
   "cell_type": "code",
   "execution_count": 69,
   "metadata": {},
   "outputs": [
    {
     "name": "stdout",
     "output_type": "stream",
     "text": [
      "       gender   age  hypertension  heart_disease smoking_history    bmi  \\\n",
      "26       Male  67.0             0              1     not current  27.32   \n",
      "242      Male  57.0             1              1     not current  27.77   \n",
      "361      Male  80.0             0              1          former  24.36   \n",
      "566      Male  75.0             0              1     not current  28.12   \n",
      "590      Male  69.0             0              1          former  24.10   \n",
      "...       ...   ...           ...            ...             ...    ...   \n",
      "99723    Male  61.0             1              1          former  35.78   \n",
      "99740    Male  80.0             0              1           never  25.76   \n",
      "99826    Male  63.0             0              1         No Info  27.32   \n",
      "99935  Female  65.0             1              1           never  33.55   \n",
      "99938    Male  55.0             0              1          former  30.42   \n",
      "\n",
      "       HbA1c_level  blood_glucose_level  diabetes  \n",
      "26             6.5                  200         1  \n",
      "242            6.6                  160         1  \n",
      "361            7.5                  280         1  \n",
      "566            7.5                  160         1  \n",
      "590            6.8                  126         1  \n",
      "...            ...                  ...       ...  \n",
      "99723          6.0                  145         1  \n",
      "99740          9.0                  220         1  \n",
      "99826          6.6                  300         1  \n",
      "99935          8.2                  140         1  \n",
      "99938          6.2                  300         1  \n",
      "\n",
      "[1267 rows x 9 columns]\n",
      "       gender   age  hypertension  heart_disease smoking_history    bmi  \\\n",
      "6      Female  44.0             0              0           never  19.31   \n",
      "38       Male  50.0             1              0         current  27.32   \n",
      "40       Male  73.0             0              0          former  25.91   \n",
      "53     Female  53.0             0              0          former  27.32   \n",
      "55       Male  50.0             0              0          former  37.16   \n",
      "...       ...   ...           ...            ...             ...    ...   \n",
      "99919  Female  74.0             0              0         current  29.51   \n",
      "99929  Female  37.0             0              0         No Info  36.87   \n",
      "99957  Female  61.0             0              0         No Info  34.45   \n",
      "99962  Female  58.0             1              0           never  38.31   \n",
      "99979  Female  61.0             0              0         current  30.11   \n",
      "\n",
      "       HbA1c_level  blood_glucose_level  diabetes  \n",
      "6              6.5                  200         1  \n",
      "38             5.7                  260         1  \n",
      "40             9.0                  160         1  \n",
      "53             7.0                  159         1  \n",
      "55             9.0                  159         1  \n",
      "...            ...                  ...       ...  \n",
      "99919          8.2                  130         1  \n",
      "99929          8.8                  160         1  \n",
      "99957          6.5                  280         1  \n",
      "99962          7.0                  200         1  \n",
      "99979          6.2                  240         1  \n",
      "\n",
      "[7233 rows x 9 columns]\n"
     ]
    }
   ],
   "source": [
    "diabetes_hd = diabetes_dataset[(diabetes_dataset[\"diabetes\"] == 1) & (diabetes_dataset[\"heart_disease\"] == 1)]\n",
    "print(diabetes_hd)\n",
    "\n",
    "diabetes_nhd = diabetes_dataset[(diabetes_dataset[\"diabetes\"] == 1) & (diabetes_dataset[\"heart_disease\"] == 0)]\n",
    "print(diabetes_nhd)"
   ]
  },
  {
   "cell_type": "code",
   "execution_count": 70,
   "metadata": {},
   "outputs": [
    {
     "ename": "TypeError",
     "evalue": "'<' not supported between instances of 'str' and 'int'",
     "output_type": "error",
     "traceback": [
      "\u001b[0;31m---------------------------------------------------------------------------\u001b[0m",
      "\u001b[0;31mTypeError\u001b[0m                                 Traceback (most recent call last)",
      "Cell \u001b[0;32mIn[70], line 1\u001b[0m\n\u001b[0;32m----> 1\u001b[0m related \u001b[38;5;241m=\u001b[39m \u001b[43mchi2_contingency\u001b[49m\u001b[43m(\u001b[49m\u001b[43mdiabetes_hd\u001b[49m\u001b[43m,\u001b[49m\u001b[43m \u001b[49m\u001b[43mdiabetes_nhd\u001b[49m\u001b[43m)\u001b[49m\n\u001b[1;32m      2\u001b[0m related\n",
      "File \u001b[0;32m~/anaconda3/envs/dev/lib/python3.10/site-packages/scipy/stats/contingency.py:330\u001b[0m, in \u001b[0;36mchi2_contingency\u001b[0;34m(observed, correction, lambda_)\u001b[0m\n\u001b[1;32m    145\u001b[0m \u001b[38;5;250m\u001b[39m\u001b[38;5;124;03m\"\"\"Chi-square test of independence of variables in a contingency table.\u001b[39;00m\n\u001b[1;32m    146\u001b[0m \n\u001b[1;32m    147\u001b[0m \u001b[38;5;124;03mThis function computes the chi-square statistic and p-value for the\u001b[39;00m\n\u001b[0;32m   (...)\u001b[0m\n\u001b[1;32m    327\u001b[0m \u001b[38;5;124;03m0.64417725029295503\u001b[39;00m\n\u001b[1;32m    328\u001b[0m \u001b[38;5;124;03m\"\"\"\u001b[39;00m\n\u001b[1;32m    329\u001b[0m observed \u001b[38;5;241m=\u001b[39m np\u001b[38;5;241m.\u001b[39masarray(observed)\n\u001b[0;32m--> 330\u001b[0m \u001b[38;5;28;01mif\u001b[39;00m np\u001b[38;5;241m.\u001b[39many(\u001b[43mobserved\u001b[49m\u001b[43m \u001b[49m\u001b[38;5;241;43m<\u001b[39;49m\u001b[43m \u001b[49m\u001b[38;5;241;43m0\u001b[39;49m):\n\u001b[1;32m    331\u001b[0m     \u001b[38;5;28;01mraise\u001b[39;00m \u001b[38;5;167;01mValueError\u001b[39;00m(\u001b[38;5;124m\"\u001b[39m\u001b[38;5;124mAll values in `observed` must be nonnegative.\u001b[39m\u001b[38;5;124m\"\u001b[39m)\n\u001b[1;32m    332\u001b[0m \u001b[38;5;28;01mif\u001b[39;00m observed\u001b[38;5;241m.\u001b[39msize \u001b[38;5;241m==\u001b[39m \u001b[38;5;241m0\u001b[39m:\n",
      "\u001b[0;31mTypeError\u001b[0m: '<' not supported between instances of 'str' and 'int'"
     ]
    }
   ],
   "source": [
    "related = chi2_contingency(diabetes_hd, diabetes_nhd)\n",
    "related\n"
   ]
  }
 ],
 "metadata": {
  "kernelspec": {
   "display_name": "dev",
   "language": "python",
   "name": "python3"
  },
  "language_info": {
   "codemirror_mode": {
    "name": "ipython",
    "version": 3
   },
   "file_extension": ".py",
   "mimetype": "text/x-python",
   "name": "python",
   "nbconvert_exporter": "python",
   "pygments_lexer": "ipython3",
   "version": "3.10.13"
  }
 },
 "nbformat": 4,
 "nbformat_minor": 2
}
